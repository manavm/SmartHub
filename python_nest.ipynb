{
 "cells": [
  {
   "cell_type": "code",
   "execution_count": 1,
   "metadata": {
    "collapsed": true
   },
   "outputs": [],
   "source": [
    "import nest\n",
    "from nest import utils as nest_utils\n",
    "import requests"
   ]
  },
  {
   "cell_type": "code",
   "execution_count": 2,
   "metadata": {
    "collapsed": true
   },
   "outputs": [],
   "source": [
    "username = 'ericmaras@gmail.com'\n",
    "password = 'Eric12!@'"
   ]
  },
  {
   "cell_type": "code",
   "execution_count": 3,
   "metadata": {
    "collapsed": true
   },
   "outputs": [],
   "source": [
    "napi = nest.Nest(username, password)"
   ]
  },
  {
   "cell_type": "code",
   "execution_count": 4,
   "metadata": {
    "collapsed": true
   },
   "outputs": [],
   "source": [
    "def fahrenheit_to_celsius(temp):\n",
    "    return nest_utils.f_to_c(temp)\n",
    "\n",
    "def celsius_to_fahrenheit(temp):\n",
    "    return nest_utils.c_to_f(temp)"
   ]
  },
  {
   "cell_type": "code",
   "execution_count": 5,
   "metadata": {
    "collapsed": false
   },
   "outputs": [
    {
     "name": "stdout",
     "output_type": "stream",
     "text": [
      "Structure Xilinx\n",
      "    Away: False\n",
      "    Devices:\n",
      "        Device: \n",
      "            Temp: 24.2\n",
      "            Humidity : 47.0%\n",
      "            Target   : 24.5C\n",
      "            battery_level         : 3.912\n"
     ]
    }
   ],
   "source": [
    "for structure in napi.structures:\n",
    "    print 'Structure %s' % structure.name\n",
    "    print '    Away: %s' % structure.away\n",
    "    print '    Devices:'\n",
    "\n",
    "    for device in structure.devices:\n",
    "        print '        Device: %s' % device.name\n",
    "        print '            Temp: %0.1f' % device.temperature\n",
    "        print '            Humidity : %0.1f%%' % device.humidity\n",
    "        print '            Target   : %0.1fC' % device.target\n",
    "        print '            battery_level         : %s' % device.battery_level"
   ]
  },
  {
   "cell_type": "code",
   "execution_count": 6,
   "metadata": {
    "collapsed": false
   },
   "outputs": [],
   "source": [
    "current_temp = celsius_to_fahrenheit(device.temperature)"
   ]
  },
  {
   "cell_type": "code",
   "execution_count": 7,
   "metadata": {
    "collapsed": false
   },
   "outputs": [
    {
     "data": {
      "text/plain": [
       "75.596"
      ]
     },
     "execution_count": 7,
     "metadata": {},
     "output_type": "execute_result"
    }
   ],
   "source": [
    "current_temp"
   ]
  },
  {
   "cell_type": "code",
   "execution_count": 8,
   "metadata": {
    "collapsed": false
   },
   "outputs": [],
   "source": [
    "# device.temperature = 24.444"
   ]
  },
  {
   "cell_type": "code",
   "execution_count": 9,
   "metadata": {
    "collapsed": false
   },
   "outputs": [],
   "source": [
    "def get_temperature():\n",
    "    return celsius_to_fahrenheit(temperature)\n",
    "\n",
    "def set_temperature(temp):\n",
    "    target_temp = temp"
   ]
  },
  {
   "cell_type": "code",
   "execution_count": 15,
   "metadata": {
    "collapsed": false
   },
   "outputs": [],
   "source": [
    "class Nest:\n",
    "    def __init__(self, username = None, password = None):\n",
    "        self.username = 'ericmaras@gmail.com'\n",
    "        self.password = 'Eric12!@'\n",
    "        for structure in napi.structures:\n",
    "            print 'Structure %s' % structure.name\n",
    "            print '    Away: %s' % structure.away\n",
    "            print '    Devices:'\n",
    "\n",
    "            for device in structure.devices:\n",
    "                print '        Device: %s' % device.name\n",
    "                print '            Temp: %0.1f' % device.temperature\n",
    "                print '            Humidity : %0.1f%%' % device.humidity\n",
    "                print '            Target   : %0.1fC' % device.target\n",
    "                print '            battery_level         : %s' % device.battery_level"
   ]
  },
  {
   "cell_type": "code",
   "execution_count": 16,
   "metadata": {
    "collapsed": false
   },
   "outputs": [
    {
     "name": "stdout",
     "output_type": "stream",
     "text": [
      "Structure Xilinx\n",
      "    Away: False\n",
      "    Devices:\n",
      "        Device: \n",
      "            Temp: 24.2\n",
      "            Humidity : 49.0%\n",
      "            Target   : 24.5C\n",
      "            battery_level         : 3.909\n"
     ]
    }
   ],
   "source": [
    "nest = Nest()"
   ]
  },
  {
   "cell_type": "code",
   "execution_count": null,
   "metadata": {
    "collapsed": true
   },
   "outputs": [],
   "source": []
  }
 ],
 "metadata": {
  "kernelspec": {
   "display_name": "Python 2",
   "language": "python",
   "name": "python2"
  },
  "language_info": {
   "codemirror_mode": {
    "name": "ipython",
    "version": 2
   },
   "file_extension": ".py",
   "mimetype": "text/x-python",
   "name": "python",
   "nbconvert_exporter": "python",
   "pygments_lexer": "ipython2",
   "version": "2.7.6"
  }
 },
 "nbformat": 4,
 "nbformat_minor": 0
}
