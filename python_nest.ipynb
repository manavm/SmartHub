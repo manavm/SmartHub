{
 "cells": [
  {
   "cell_type": "code",
   "execution_count": 25,
   "metadata": {
    "collapsed": true
   },
   "outputs": [],
   "source": [
    "import nest\n",
    "from nest import utils as nest_utils\n",
    "import sys\n",
    "import requests"
   ]
  },
  {
   "cell_type": "code",
   "execution_count": 2,
   "metadata": {
    "collapsed": true
   },
   "outputs": [],
   "source": [
    "username = 'ericmaras@gmail.com'\n",
    "password = 'Eric12!@'"
   ]
  },
  {
   "cell_type": "code",
   "execution_count": 3,
   "metadata": {
    "collapsed": true
   },
   "outputs": [],
   "source": [
    "napi = nest.Nest(username, password)"
   ]
  },
  {
   "cell_type": "code",
   "execution_count": 4,
   "metadata": {
    "collapsed": true
   },
   "outputs": [],
   "source": [
    "def fahrenheit_to_celsius(temp):\n",
    "    return nest_utils.f_to_c(temp)\n",
    "\n",
    "def celsius_to_fahrenheit(temp):\n",
    "    return nest_utils.c_to_f(temp)"
   ]
  },
  {
   "cell_type": "code",
   "execution_count": 5,
   "metadata": {
    "collapsed": false
   },
   "outputs": [
    {
     "name": "stdout",
     "output_type": "stream",
     "text": [
      "Structure Xilinx\n",
      "    Away: False\n",
      "    Devices:\n",
      "        Device: \n",
      "            Temp: 24.2\n",
      "            Humidity : 47.0%\n",
      "            Target   : 24.5C\n",
      "            battery_level         : 3.912\n"
     ]
    }
   ],
   "source": [
    "for structure in napi.structures:\n",
    "    print 'Structure %s' % structure.name\n",
    "    print '    Away: %s' % structure.away\n",
    "    print '    Devices:'\n",
    "\n",
    "    for device in structure.devices:\n",
    "        print '        Device: %s' % device.name\n",
    "        print '            Temp: %0.1f' % device.temperature\n",
    "        print '            Humidity : %0.1f%%' % device.humidity\n",
    "        print '            Target   : %0.1fC' % device.target\n",
    "        print '            battery_level         : %s' % device.battery_level"
   ]
  },
  {
   "cell_type": "code",
   "execution_count": 6,
   "metadata": {
    "collapsed": false
   },
   "outputs": [],
   "source": [
    "current_temp = celsius_to_fahrenheit(device.temperature)"
   ]
  },
  {
   "cell_type": "code",
   "execution_count": 7,
   "metadata": {
    "collapsed": false
   },
   "outputs": [
    {
     "data": {
      "text/plain": [
       "75.596"
      ]
     },
     "execution_count": 7,
     "metadata": {},
     "output_type": "execute_result"
    }
   ],
   "source": [
    "current_temp"
   ]
  },
  {
   "cell_type": "code",
   "execution_count": 8,
   "metadata": {
    "collapsed": false
   },
   "outputs": [],
   "source": [
    "# device.temperature = 24.444"
   ]
  },
  {
   "cell_type": "code",
   "execution_count": 9,
   "metadata": {
    "collapsed": false
   },
   "outputs": [],
   "source": [
    "def get_temperature():\n",
    "    return celsius_to_fahrenheit(temperature)\n",
    "\n",
    "def set_temperature(temp):\n",
    "    target_temp = temp"
   ]
  },
  {
   "cell_type": "code",
   "execution_count": null,
   "metadata": {
    "collapsed": true
   },
   "outputs": [],
   "source": []
  },
  {
   "cell_type": "code",
   "execution_count": 38,
   "metadata": {
    "collapsed": false
   },
   "outputs": [
    {
     "name": "stdout",
     "output_type": "stream",
     "text": [
      "Structure Xilinx\n",
      "    Away: False\n",
      "    Devices:\n",
      "        Device: \n",
      "            Temp: 24.8\n",
      "            Humidity : 49.0%\n",
      "            Target   : 24.5C\n",
      "            battery_level         : 3.909\n",
      "Number of arguments: 5 arguments.\n",
      "Argument List: ['/Library/Frameworks/Python.framework/Versions/2.7/lib/python2.7/site-packages/IPython/kernel/__main__.py', '-f', '/Users/manavm/.ipython/profile_default/security/kernel-323d1c62-9dfd-43a5-b00e-150cface0f54.json', '--profile-dir', '/Users/manavm/.ipython/profile_default']\n",
      "The temperature in Eric's house is 76.586\n"
     ]
    }
   ],
   "source": [
    "class Nest:\n",
    "    def __init__(self, username = None, password = None):\n",
    "        self.username = 'ericmaras@gmail.com'\n",
    "        self.password = 'Eric12!@'\n",
    "        napi = nest.Nest(username, password)\n",
    "        for structure in napi.structures:\n",
    "            print 'Structure %s' % structure.name\n",
    "            print '    Away: %s' % structure.away\n",
    "            print '    Devices:'\n",
    "\n",
    "            for device in structure.devices:\n",
    "                print '        Device: %s' % device.name\n",
    "                print '            Temp: %0.1f' % device.temperature\n",
    "                print '            Humidity : %0.1f%%' % device.humidity\n",
    "                print '            Target   : %0.1fC' % device.target\n",
    "                print '            battery_level         : %s' % device.battery_level\n",
    "        \n",
    "        self.device = device\n",
    "        self.temperature = self.c_to_f(device.temperature)\n",
    "        self.target = device.target\n",
    "        self.humidity = device.humidity\n",
    "        self.battery_level = device.battery_level\n",
    "        \n",
    "        \n",
    "    def set_target(self, temp):\n",
    "        self.device.temperature = f_to_c(temp)\n",
    "    \n",
    "    def f_to_c(self, temp):\n",
    "        return nest_utils.f_to_c(temp)\n",
    "\n",
    "    def c_to_f(self, temp):\n",
    "        return nest_utils.c_to_f(temp)\n",
    "\n",
    "if __name__ == \"__main__\":\n",
    "    nest = Nest()\n",
    "    print 'Number of arguments:', len(sys.argv), 'arguments.'\n",
    "    print 'Argument List:', str(sys.argv)\n",
    "    print \"The temperature in Eric's house is \" + str(nest.temperature)"
   ]
  },
  {
   "cell_type": "code",
   "execution_count": 36,
   "metadata": {
    "collapsed": false
   },
   "outputs": [
    {
     "name": "stdout",
     "output_type": "stream",
     "text": [
      "Structure Xilinx\n",
      "    Away: False\n",
      "    Devices:\n",
      "        Device: \n",
      "            Temp: 24.8\n",
      "            Humidity : 49.0%\n",
      "            Target   : 24.5C\n",
      "            battery_level         : 3.909\n"
     ]
    }
   ],
   "source": [
    "nest = Nest()"
   ]
  },
  {
   "cell_type": "code",
   "execution_count": 37,
   "metadata": {
    "collapsed": false
   },
   "outputs": [
    {
     "data": {
      "text/plain": [
       "24.77"
      ]
     },
     "execution_count": 37,
     "metadata": {},
     "output_type": "execute_result"
    }
   ],
   "source": [
    "nest.device.temperature"
   ]
  },
  {
   "cell_type": "code",
   "execution_count": 27,
   "metadata": {
    "collapsed": false
   },
   "outputs": [
    {
     "data": {
      "text/plain": [
       "list"
      ]
     },
     "execution_count": 27,
     "metadata": {},
     "output_type": "execute_result"
    }
   ],
   "source": []
  },
  {
   "cell_type": "code",
   "execution_count": null,
   "metadata": {
    "collapsed": true
   },
   "outputs": [],
   "source": []
  }
 ],
 "metadata": {
  "kernelspec": {
   "display_name": "Python 2",
   "language": "python",
   "name": "python2"
  },
  "language_info": {
   "codemirror_mode": {
    "name": "ipython",
    "version": 2
   },
   "file_extension": ".py",
   "mimetype": "text/x-python",
   "name": "python",
   "nbconvert_exporter": "python",
   "pygments_lexer": "ipython2",
   "version": "2.7.6"
  }
 },
 "nbformat": 4,
 "nbformat_minor": 0
}
