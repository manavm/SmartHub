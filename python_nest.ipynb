{
 "cells": [
  {
   "cell_type": "code",
   "execution_count": 1,
   "metadata": {
    "collapsed": true
   },
   "outputs": [],
   "source": [
    "import nest\n",
    "import requests"
   ]
  },
  {
   "cell_type": "code",
   "execution_count": 2,
   "metadata": {
    "collapsed": true
   },
   "outputs": [],
   "source": [
    "username = 'ericmaras@gmail.com'\n",
    "password = 'Eric12!@'"
   ]
  },
  {
   "cell_type": "code",
   "execution_count": 3,
   "metadata": {
    "collapsed": true
   },
   "outputs": [],
   "source": [
    "napi = nest.Nest(username, password)"
   ]
  },
  {
   "cell_type": "code",

   "execution_count": 19,
   "metadata": {
    "collapsed": true
   },
   "outputs": [],
   "source": [
    "def fahrenheit_to_celsius(temp):\n",
    "    return nest_utils.f_to_c(temp)\n",
    "\n",
    "def celsius_to_fahrenheit(temp):\n",
    "    return nest_utils.c_to_f(temp)"
   ]
  },
  {
   "cell_type": "code",
   "execution_count": 29,
   "metadata": {
    "collapsed": false
   },
   "outputs": [
    {
     "name": "stdout",
     "output_type": "stream",
     "text": [
      "Structure Xilinx\n",
      "    Away: False\n",
      "    Devices:\n",
      "        Device: \n",
      "            Temp: 24.9\n",
      "            Humidity : 49.0%\n",
      "            Target   : 24.4C\n",
      "            battery_level         : 3.906\n"
     ]
    }
   ],
   "source": [
    "for structure in napi.structures:\n",
    "    print 'Structure %s' % structure.name\n",
    "    print '    Away: %s' % structure.away\n",
    "    print '    Devices:'\n",
    "\n",
    "    for device in structure.devices:\n",
    "        print '        Device: %s' % device.name\n",
    "        print '            Temp: %0.1f' % device.temperature\n",
    "        print '            Humidity : %0.1f%%' % device.humidity\n",
    "        print '            Target   : %0.1fC' % device.target\n",
    "        print '            battery_level         : %s' % device.battery_level"
   ]
  },
  {
   "cell_type": "code",
   "execution_count": 20,
   "metadata": {
    "collapsed": false
   },
   "outputs": [],
   "source": [
    "current_temp = celsius_to_fahrenheit(device.temperature)"
   ]
  },
  {
   "cell_type": "code",
   "execution_count": 21,
   "metadata": {
    "collapsed": false
   },
   "outputs": [
    {
     "data": {
      "text/plain": [
       "76.838"
      ]
     },
     "execution_count": 21,
     "metadata": {},
     "output_type": "execute_result"
    }
   ],
   "source": [
    "current_temp"
   ]
  },
  {
   "cell_type": "code",
   "execution_count": 17,
   "metadata": {
    "collapsed": false
   },
   "outputs": [],
   "source": [
    "device.temperature = 24.444"
   ]
  },
  {
   "cell_type": "code",
   "execution_count": 23,
   "metadata": {
    "collapsed": false
   },
   "outputs": [],

   "source": [
    "def get_temperature():\n",
    "    return celsius_to_fahrenheit(temperature)\n",
    "\n",
    "def set_temperature(temp):\n",
    "    target_temp = temp"
   ]
  },
  {
   "cell_type": "code",
   "execution_count": null,
   "metadata": {
    "collapsed": false
   },
   "outputs": [],
   "source": []
  },
  {
   "cell_type": "code",
   "execution_count": null,
   "metadata": {
    "collapsed": true
   },
   "outputs": [],
   "source": []
  }
 ],
 "metadata": {
  "kernelspec": {
   "display_name": "Python 2",
   "language": "python",
   "name": "python2"
  },
  "language_info": {
   "codemirror_mode": {
    "name": "ipython",
    "version": 2
   },
   "file_extension": ".py",
   "mimetype": "text/x-python",
   "name": "python",
   "nbconvert_exporter": "python",
   "pygments_lexer": "ipython2",
   "version": "2.7.6"
  }
 },
 "nbformat": 4,
 "nbformat_minor": 0
}
